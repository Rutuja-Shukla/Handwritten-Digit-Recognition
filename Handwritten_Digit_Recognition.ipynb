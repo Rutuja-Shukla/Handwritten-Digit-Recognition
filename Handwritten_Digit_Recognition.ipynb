{
  "nbformat": 4,
  "nbformat_minor": 0,
  "metadata": {
    "kernelspec": {
      "display_name": "Python 3",
      "language": "python",
      "name": "python3"
    },
    "language_info": {
      "codemirror_mode": {
        "name": "ipython",
        "version": 3
      },
      "file_extension": ".py",
      "mimetype": "text/x-python",
      "name": "python",
      "nbconvert_exporter": "python",
      "pygments_lexer": "ipython3",
      "version": "3.6.10"
    },
    "colab": {
      "name": "Handwritten_Digit_Recognition.ipynb",
      "provenance": [],
      "collapsed_sections": [],
      "include_colab_link": true
    }
  },
  "cells": [
    {
      "cell_type": "markdown",
      "metadata": {
        "id": "view-in-github",
        "colab_type": "text"
      },
      "source": [
        "<a href=\"https://colab.research.google.com/github/Rutuja-Shukla/Handwritten-Digit-Recognition/blob/main/Handwritten_Digit_Recognition.ipynb\" target=\"_parent\"><img src=\"https://colab.research.google.com/assets/colab-badge.svg\" alt=\"Open In Colab\"/></a>"
      ]
    },
    {
      "cell_type": "markdown",
      "metadata": {
        "id": "wzSP2HulNRwW"
      },
      "source": [
        "# Handwritten Digit Recognition"
      ]
    },
    {
      "cell_type": "markdown",
      "metadata": {
        "id": "xvHbSxjnNWiB"
      },
      "source": [
        "Goal : Identify Handwritten Digits\n",
        "\n",
        "Description : Images of handwritten digits are uploaded from tensorflow MNIST dataset and using Neural network model we identify the digits."
      ]
    },
    {
      "cell_type": "markdown",
      "metadata": {
        "id": "TLLIIKWIKsUr"
      },
      "source": [
        "# Import Libraries"
      ]
    },
    {
      "cell_type": "code",
      "metadata": {
        "id": "okz1VJ4AdZBl"
      },
      "source": [
        "# Store data and data manipuation\n",
        "import numpy as np\n",
        "# Visualisation libraries\n",
        "%matplotlib inline\n",
        "import matplotlib.pyplot as plt\n",
        "\n",
        "# Upload dataset and create model\n",
        "import tensorflow as tf"
      ],
      "execution_count": 1,
      "outputs": []
    },
    {
      "cell_type": "markdown",
      "metadata": {
        "id": "O3Cz8tgDKzDr"
      },
      "source": [
        "# Download data"
      ]
    },
    {
      "cell_type": "code",
      "metadata": {
        "id": "M74397AfdZBu",
        "colab": {
          "base_uri": "https://localhost:8080/"
        },
        "outputId": "b13b7aaa-4f46-4a5a-f31c-84b3e8bb1068"
      },
      "source": [
        "(x_train, y_train), (x_test, y_test) = tf.keras.datasets.mnist.load_data()"
      ],
      "execution_count": 2,
      "outputs": [
        {
          "output_type": "stream",
          "text": [
            "Downloading data from https://storage.googleapis.com/tensorflow/tf-keras-datasets/mnist.npz\n",
            "11493376/11490434 [==============================] - 0s 0us/step\n"
          ],
          "name": "stdout"
        }
      ]
    },
    {
      "cell_type": "markdown",
      "metadata": {
        "id": "l9wWqrR1LeFM"
      },
      "source": [
        "# Data Analysation"
      ]
    },
    {
      "cell_type": "code",
      "metadata": {
        "id": "a0tTZUsEdZB0",
        "colab": {
          "base_uri": "https://localhost:8080/",
          "height": 588
        },
        "outputId": "ea1a6093-0dc7-4ab2-bedb-531abed81a32"
      },
      "source": [
        "# Visaulize the data\n",
        "plt.figure(figsize = (10, 10))\n",
        "for i in range(0,16):\n",
        "  plt.subplot(4, 4, i + 1)\n",
        "  plt.imshow(x_train[i], cmap= 'binary')\n",
        "  plt.xlabel(str(y_train[i]))\n",
        "  plt.xticks([])\n",
        "  plt.yticks([])"
      ],
      "execution_count": 3,
      "outputs": [
        {
          "output_type": "display_data",
          "data": {
            "image/png": "[encoded data removed]",
            "text/plain": [
              "<Figure size 720x720 with 16 Axes>"
            ]
          },
          "metadata": {
            "tags": []
          }
        }
      ]
    },
    {
      "cell_type": "code",
      "metadata": {
        "id": "zx_X8JMjdZB5",
        "colab": {
          "base_uri": "https://localhost:8080/"
        },
        "outputId": "ef4a75d5-5d09-4081-c060-7754d333e06b"
      },
      "source": [
        "# Dataset information\n",
        "print(x_train.shape)\n",
        "print(x_test.shape)"
      ],
      "execution_count": 4,
      "outputs": [
        {
          "output_type": "stream",
          "text": [
            "(60000, 28, 28)\n",
            "(10000, 28, 28)\n"
          ],
          "name": "stdout"
        }
      ]
    },
    {
      "cell_type": "code",
      "metadata": {
        "id": "tJtkgNBodZB9"
      },
      "source": [
        "#Normalize data\n",
        "x_train = np.reshape(x_train, (60000, 28 *28))\n",
        "x_test = np.reshape(x_test, (10000, 28 *28))\n",
        "x_train = x_train / 255\n",
        "x_test = x_test / 255"
      ],
      "execution_count": 5,
      "outputs": []
    },
    {
      "cell_type": "markdown",
      "metadata": {
        "id": "jgOiP2HXL-ra"
      },
      "source": [
        "# Neural Network Model"
      ]
    },
    {
      "cell_type": "code",
      "metadata": {
        "id": "qZo6j9VIdZCA"
      },
      "source": [
        "#Create a Neural Network Model\n",
        "model = tf.keras.models.Sequential([\n",
        "                                    tf.keras.layers.Dense(32,\n",
        "                                                          activation='sigmoid',\n",
        "                                                          input_shape=(784,)),\n",
        "                                    tf.keras.layers.Dense(32,\n",
        "                                                          activation='sigmoid'),\n",
        "                                    tf.keras.layers.Dense(10,\n",
        "                                                          activation='softmax')\n",
        "])"
      ],
      "execution_count": 6,
      "outputs": []
    },
    {
      "cell_type": "code",
      "metadata": {
        "id": "NjIJ0nSvL5nV"
      },
      "source": [
        "# Compile the model\n",
        "model.compile(\n",
        "    loss = 'sparse_categorical_crossentropy',\n",
        "    optimizer = 'adam',\n",
        "    metrics = ['accuracy']\n",
        ")"
      ],
      "execution_count": 7,
      "outputs": []
    },
    {
      "cell_type": "code",
      "metadata": {
        "id": "5GsnpPR8dZCE",
        "colab": {
          "base_uri": "https://localhost:8080/"
        },
        "outputId": "f14c8ac3-dc05-4277-b8bc-c03891d56a25"
      },
      "source": [
        "# Fit the Model\n",
        "_= model.fit(x= x_train, y=y_train, validation_data=(x_test, y_test),\n",
        "             batch_size=1024, epochs=30, verbose=2)"
      ],
      "execution_count": 8,
      "outputs": [
        {
          "output_type": "stream",
          "text": [
            "Epoch 1/30\n",
            "59/59 - 1s - loss: 2.1900 - accuracy: 0.3605 - val_loss: 1.9897 - val_accuracy: 0.6373\n",
            "Epoch 2/30\n",
            "59/59 - 0s - loss: 1.7867 - accuracy: 0.6964 - val_loss: 1.5627 - val_accuracy: 0.7303\n",
            "Epoch 3/30\n",
            "59/59 - 0s - loss: 1.3788 - accuracy: 0.7645 - val_loss: 1.1915 - val_accuracy: 0.8302\n",
            "Epoch 4/30\n",
            "59/59 - 0s - loss: 1.0577 - accuracy: 0.8288 - val_loss: 0.9177 - val_accuracy: 0.8506\n",
            "Epoch 5/30\n",
            "59/59 - 0s - loss: 0.8260 - accuracy: 0.8598 - val_loss: 0.7251 - val_accuracy: 0.8755\n",
            "Epoch 6/30\n",
            "59/59 - 0s - loss: 0.6656 - accuracy: 0.8793 - val_loss: 0.5940 - val_accuracy: 0.8871\n",
            "Epoch 7/30\n",
            "59/59 - 0s - loss: 0.5557 - accuracy: 0.8914 - val_loss: 0.5036 - val_accuracy: 0.8968\n",
            "Epoch 8/30\n",
            "59/59 - 0s - loss: 0.4790 - accuracy: 0.9000 - val_loss: 0.4404 - val_accuracy: 0.9029\n",
            "Epoch 9/30\n",
            "59/59 - 0s - loss: 0.4237 - accuracy: 0.9060 - val_loss: 0.3946 - val_accuracy: 0.9096\n",
            "Epoch 10/30\n",
            "59/59 - 0s - loss: 0.3821 - accuracy: 0.9116 - val_loss: 0.3598 - val_accuracy: 0.9150\n",
            "Epoch 11/30\n",
            "59/59 - 0s - loss: 0.3505 - accuracy: 0.9160 - val_loss: 0.3342 - val_accuracy: 0.9169\n",
            "Epoch 12/30\n",
            "59/59 - 0s - loss: 0.3252 - accuracy: 0.9201 - val_loss: 0.3125 - val_accuracy: 0.9212\n",
            "Epoch 13/30\n",
            "59/59 - 0s - loss: 0.3044 - accuracy: 0.9237 - val_loss: 0.2950 - val_accuracy: 0.9234\n",
            "Epoch 14/30\n",
            "59/59 - 0s - loss: 0.2873 - accuracy: 0.9267 - val_loss: 0.2815 - val_accuracy: 0.9265\n",
            "Epoch 15/30\n",
            "59/59 - 0s - loss: 0.2724 - accuracy: 0.9294 - val_loss: 0.2690 - val_accuracy: 0.9269\n",
            "Epoch 16/30\n",
            "59/59 - 0s - loss: 0.2598 - accuracy: 0.9315 - val_loss: 0.2577 - val_accuracy: 0.9296\n",
            "Epoch 17/30\n",
            "59/59 - 0s - loss: 0.2482 - accuracy: 0.9344 - val_loss: 0.2490 - val_accuracy: 0.9315\n",
            "Epoch 18/30\n",
            "59/59 - 0s - loss: 0.2379 - accuracy: 0.9368 - val_loss: 0.2402 - val_accuracy: 0.9330\n",
            "Epoch 19/30\n",
            "59/59 - 0s - loss: 0.2288 - accuracy: 0.9391 - val_loss: 0.2320 - val_accuracy: 0.9344\n",
            "Epoch 20/30\n",
            "59/59 - 0s - loss: 0.2202 - accuracy: 0.9415 - val_loss: 0.2251 - val_accuracy: 0.9359\n",
            "Epoch 21/30\n",
            "59/59 - 0s - loss: 0.2123 - accuracy: 0.9433 - val_loss: 0.2192 - val_accuracy: 0.9366\n",
            "Epoch 22/30\n",
            "59/59 - 0s - loss: 0.2049 - accuracy: 0.9450 - val_loss: 0.2125 - val_accuracy: 0.9379\n",
            "Epoch 23/30\n",
            "59/59 - 0s - loss: 0.1980 - accuracy: 0.9469 - val_loss: 0.2068 - val_accuracy: 0.9392\n",
            "Epoch 24/30\n",
            "59/59 - 0s - loss: 0.1915 - accuracy: 0.9484 - val_loss: 0.2017 - val_accuracy: 0.9407\n",
            "Epoch 25/30\n",
            "59/59 - 0s - loss: 0.1857 - accuracy: 0.9499 - val_loss: 0.1966 - val_accuracy: 0.9428\n",
            "Epoch 26/30\n",
            "59/59 - 0s - loss: 0.1800 - accuracy: 0.9510 - val_loss: 0.1924 - val_accuracy: 0.9436\n",
            "Epoch 27/30\n",
            "59/59 - 0s - loss: 0.1747 - accuracy: 0.9525 - val_loss: 0.1876 - val_accuracy: 0.9449\n",
            "Epoch 28/30\n",
            "59/59 - 0s - loss: 0.1695 - accuracy: 0.9542 - val_loss: 0.1835 - val_accuracy: 0.9464\n",
            "Epoch 29/30\n",
            "59/59 - 0s - loss: 0.1649 - accuracy: 0.9552 - val_loss: 0.1798 - val_accuracy: 0.9477\n",
            "Epoch 30/30\n",
            "59/59 - 0s - loss: 0.1603 - accuracy: 0.9568 - val_loss: 0.1758 - val_accuracy: 0.9485\n"
          ],
          "name": "stdout"
        }
      ]
    },
    {
      "cell_type": "markdown",
      "metadata": {
        "id": "bhW1vx8qMNgc"
      },
      "source": [
        "# Result"
      ]
    },
    {
      "cell_type": "code",
      "metadata": {
        "id": "lzwxHcx6H4Og",
        "colab": {
          "base_uri": "https://localhost:8080/",
          "height": 588
        },
        "outputId": "3a51c5d2-d90d-4e8f-c5ef-d6fa1a825af0"
      },
      "source": [
        "#Plot the result\n",
        "plt.figure(figsize = (10, 10))\n",
        "for i in range(0,16):\n",
        "  plt.subplot(4, 4, i + 1)\n",
        "  plt.imshow(x_test[i].reshape([28,28]), cmap= 'binary')\n",
        "  plt.xlabel(str(y_test[i]))\n",
        "  plt.xticks([])\n",
        "  plt.yticks([])"
      ],
      "execution_count": 9,
      "outputs": [
        {
          "output_type": "display_data",
          "data": {
            "image/png": "[encoded data removed]",
            "text/plain": [
              "<Figure size 720x720 with 16 Axes>"
            ]
          },
          "metadata": {
            "tags": []
          }
        }
      ]
    },
    {
      "cell_type": "markdown",
      "metadata": {
        "id": "Jr_aciEJMTG9"
      },
      "source": [
        "# Accuracy"
      ]
    },
    {
      "cell_type": "code",
      "metadata": {
        "id": "psNSr2S5IUaM",
        "colab": {
          "base_uri": "https://localhost:8080/"
        },
        "outputId": "441314df-9c58-429f-a9f4-aa5cc57aa307"
      },
      "source": [
        "loss,accuracy = model.evaluate(x_test, y_test)\n",
        "print(\"Accuracy = \", accuracy * 100)"
      ],
      "execution_count": 10,
      "outputs": [
        {
          "output_type": "stream",
          "text": [
            "313/313 [==============================] - 0s 898us/step - loss: 0.1758 - accuracy: 0.9485\n",
            "Accuracy =  94.84999775886536\n"
          ],
          "name": "stdout"
        }
      ]
    }
  ]
}